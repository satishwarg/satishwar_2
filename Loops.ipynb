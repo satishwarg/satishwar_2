{
 "cells": [
  {
   "cell_type": "code",
   "execution_count": null,
   "id": "a8310ec1",
   "metadata": {},
   "outputs": [],
   "source": []
  },
  {
   "cell_type": "code",
   "execution_count": null,
   "id": "ff95499f",
   "metadata": {},
   "outputs": [],
   "source": [
    "# Loops\n",
    "- For loop\n",
    "- while loop\n"
   ]
  },
  {
   "cell_type": "code",
   "execution_count": null,
   "id": "3117952c",
   "metadata": {},
   "outputs": [],
   "source": [
    "- function will resue the code \n",
    "- tax payment of 10 members in your company \n",
    "- tax payment=salary*tax_per/100\n",
    "- return tax_payment"
   ]
  },
  {
   "cell_type": "code",
   "execution_count": null,
   "id": "d3843370",
   "metadata": {},
   "outputs": [],
   "source": [
    "for i in range (10): \n",
    "    print(i)\n",
    "# in python index starts with zero \n"
   ]
  },
  {
   "cell_type": "code",
   "execution_count": 2,
   "id": "8a552467",
   "metadata": {},
   "outputs": [
    {
     "name": "stdout",
     "output_type": "stream",
     "text": [
      "0\n",
      "1\n",
      "2\n",
      "3\n",
      "4\n"
     ]
    }
   ],
   "source": [
    "# sytax \n",
    "\n",
    "for i in range(5):\n",
    "    print(i)"
   ]
  },
  {
   "cell_type": "markdown",
   "id": "95ff30b5",
   "metadata": {},
   "source": [
    "- any requires three things \n",
    "- intial point: where you want to start \n",
    "- incriment: how much you wnat to increase \n",
    "- condition : where you want to stop \n",
    "- in for loop these 3 in single line only "
   ]
  },
  {
   "cell_type": "code",
   "execution_count": 12,
   "id": "9d5cda12",
   "metadata": {},
   "outputs": [
    {
     "ename": "SyntaxError",
     "evalue": "invalid syntax (3009740872.py, line 1)",
     "output_type": "error",
     "traceback": [
      "\u001b[1;36m  Cell \u001b[1;32mIn[12], line 1\u001b[1;36m\u001b[0m\n\u001b[1;33m    $pattern-1$\u001b[0m\n\u001b[1;37m    ^\u001b[0m\n\u001b[1;31mSyntaxError\u001b[0m\u001b[1;31m:\u001b[0m invalid syntax\n"
     ]
    }
   ],
   "source": [
    "$pattern-1$"
   ]
  },
  {
   "cell_type": "code",
   "execution_count": 5,
   "id": "24cd3bc5",
   "metadata": {},
   "outputs": [
    {
     "ename": "SyntaxError",
     "evalue": "invalid syntax (713422920.py, line 1)",
     "output_type": "error",
     "traceback": [
      "\u001b[1;36m  Cell \u001b[1;32mIn[5], line 1\u001b[1;36m\u001b[0m\n\u001b[1;33m    for i in range range(5):\u001b[0m\n\u001b[1;37m                   ^\u001b[0m\n\u001b[1;31mSyntaxError\u001b[0m\u001b[1;31m:\u001b[0m invalid syntax\n"
     ]
    }
   ],
   "source": [
    "for i in range range(5):\n",
    "    print(i)\n",
    "# inital point i=0\n",
    "# incriment = 1\n",
    "# stop point= 5-1"
   ]
  },
  {
   "cell_type": "code",
   "execution_count": null,
   "id": "05c0c6e1",
   "metadata": {},
   "outputs": [],
   "source": [
    "for i in range(stop)\n",
    "\n",
    "- default start value =0\n",
    "- default increment by=1\n",
    "- increment direction is +ve\n",
    "- last value = stop value-1"
   ]
  },
  {
   "cell_type": "code",
   "execution_count": 14,
   "id": "9223f697",
   "metadata": {},
   "outputs": [
    {
     "name": "stdout",
     "output_type": "stream",
     "text": [
      "0 1 2 3 4 5 6 7 8 9 10 11 12 13 14 15 16 17 18 19 "
     ]
    }
   ],
   "source": [
    "for i in range(20):\n",
    "    print(i,end=\" \")"
   ]
  },
  {
   "cell_type": "markdown",
   "id": "9cda7e8a",
   "metadata": {},
   "source": [
    "$pattern-2$"
   ]
  },
  {
   "cell_type": "code",
   "execution_count": null,
   "id": "849376ed",
   "metadata": {},
   "outputs": [],
   "source": [
    "for i in range(start,stop)\n",
    "\n",
    "- start value will be start position \n",
    "- stop value will be stop \n",
    "- direction positive \n",
    "- increment by 1\n",
    "- last value=stop-1\n",
    "\n"
   ]
  },
  {
   "cell_type": "code",
   "execution_count": 17,
   "id": "55c3ccd3",
   "metadata": {},
   "outputs": [
    {
     "name": "stdout",
     "output_type": "stream",
     "text": [
      "10 11 12 13 14 15 16 17 18 19 "
     ]
    }
   ],
   "source": [
    "for i in range(10,20):\n",
    "    print(i,end=\" \")"
   ]
  },
  {
   "cell_type": "code",
   "execution_count": 9,
   "id": "8429b0b5",
   "metadata": {},
   "outputs": [
    {
     "name": "stdout",
     "output_type": "stream",
     "text": [
      "0\n",
      "1\n",
      "2\n",
      "3\n",
      "4\n"
     ]
    }
   ],
   "source": [
    "for i in range(5):\n",
    "    print(i)"
   ]
  },
  {
   "cell_type": "markdown",
   "id": "ec8c2516",
   "metadata": {},
   "source": [
    "$pattern-3$"
   ]
  },
  {
   "cell_type": "code",
   "execution_count": null,
   "id": "a741858d",
   "metadata": {},
   "outputs": [],
   "source": [
    "for i in range(start,stop,step)\n",
    "\n",
    "- start value will be the value provided at start position \n",
    "- step value \n",
    "    - if step value has negative ex: -2, it is negative direction which means this is decreasing \n",
    "    - if step value has positive ex: 2, it has positive direction which means incrimental \n",
    "- stop value \n",
    "    - if we have decremental last=stop+1\n",
    "    - if we have incremental=stop-1\n",
    "- decriemental will give last=stop+1 \n",
    "- incriemental will give last=stop-1\n",
    "        "
   ]
  },
  {
   "cell_type": "code",
   "execution_count": 20,
   "id": "f1aaac08",
   "metadata": {},
   "outputs": [
    {
     "name": "stdout",
     "output_type": "stream",
     "text": [
      "2 4 6 8 10 12 14 16 18 "
     ]
    }
   ],
   "source": [
    "for i in range(2,20,2):\n",
    "    print(i,end=\" \")\n",
    "# start=2\n",
    "# step=2 positive\n",
    "# stop=20-1=19 (possible)"
   ]
  },
  {
   "cell_type": "code",
   "execution_count": 21,
   "id": "ec2307a1",
   "metadata": {},
   "outputs": [
    {
     "name": "stdout",
     "output_type": "stream",
     "text": [
      "-1 -2 -3 -4 -5 -6 -7 -8 -9 "
     ]
    }
   ],
   "source": [
    "for i in range(-1,-10,-1):\n",
    "    print(i,end=\" \")\n",
    "#start=-1\n",
    "#step=-1 (negative)\n",
    "#step=-10+1=-9 (possible)"
   ]
  },
  {
   "cell_type": "code",
   "execution_count": 22,
   "id": "09ff9177",
   "metadata": {},
   "outputs": [
    {
     "name": "stdout",
     "output_type": "stream",
     "text": [
      "5 4 3 2 1 0 -1 -2 -3 -4 -5 "
     ]
    }
   ],
   "source": [
    "for i in range(5,-6,-1):\n",
    "    print(i,end=\" \")\n",
    "\n",
    "# start=5\n",
    "# step=-1\n",
    "# stop=-6+1=-5 (possible)"
   ]
  },
  {
   "cell_type": "code",
   "execution_count": 24,
   "id": "d96e5f02",
   "metadata": {},
   "outputs": [],
   "source": [
    "for i in range(5,-6,1):\n",
    "    print(i,end=\" \")\n",
    "# start=5\n",
    "#step=1 positive\n",
    "# stop=-6-1=-7 (not possible)"
   ]
  },
  {
   "cell_type": "code",
   "execution_count": null,
   "id": "5b9f8791",
   "metadata": {},
   "outputs": [],
   "source": [
    "range(3,25,3)"
   ]
  },
  {
   "cell_type": "code",
   "execution_count": null,
   "id": "44b5b3a1",
   "metadata": {},
   "outputs": [],
   "source": [
    "# WAp ask the user print the square of the number form 1 to 6\n"
   ]
  },
  {
   "cell_type": "code",
   "execution_count": 28,
   "id": "c5178c6e",
   "metadata": {},
   "outputs": [
    {
     "name": "stdout",
     "output_type": "stream",
     "text": [
      "the square of 1 is 1\n",
      "the square of 2 is 4\n",
      "the square of 3 is 9\n",
      "the square of 4 is 16\n",
      "the square of 5 is 25\n"
     ]
    }
   ],
   "source": [
    "for i in range(1,6):\n",
    "    print(f\"the square of {i} is {i*i}\")"
   ]
  },
  {
   "cell_type": "code",
   "execution_count": null,
   "id": "b546a1c9",
   "metadata": {},
   "outputs": [],
   "source": [
    "# Wap start start value from key board"
   ]
  },
  {
   "cell_type": "code",
   "execution_count": 30,
   "id": "0453cb75",
   "metadata": {},
   "outputs": [
    {
     "name": "stdout",
     "output_type": "stream",
     "text": [
      "enter the start value: 20\n",
      "enter the stop value: 30\n",
      "20*20 is 400\n",
      "21*21 is 441\n",
      "22*22 is 484\n",
      "23*23 is 529\n",
      "24*24 is 576\n",
      "25*25 is 625\n",
      "26*26 is 676\n",
      "27*27 is 729\n",
      "28*28 is 784\n",
      "29*29 is 841\n"
     ]
    }
   ],
   "source": [
    "start=eval(input(\"enter the start value: \"))\n",
    "stop=eval(input(\"enter the stop value: \"))\n",
    "for i in range(start,stop):\n",
    "    print(f\"{i}*{i} is {i*i}\")"
   ]
  },
  {
   "cell_type": "code",
   "execution_count": 32,
   "id": "f683dd3c",
   "metadata": {},
   "outputs": [
    {
     "name": "stdout",
     "output_type": "stream",
     "text": [
      "enter the start value: 20\n",
      "enter the stop value: 30\n",
      "20*20 is 400\n",
      "21*21 is 441\n",
      "22*22 is 484\n",
      "23*23 is 529\n",
      "24*24 is 576\n",
      "25*25 is 625\n",
      "26*26 is 676\n",
      "27*27 is 729\n",
      "28*28 is 784\n",
      "29*29 is 841\n"
     ]
    }
   ],
   "source": [
    "for i in range(eval(input(\"enter the start value: \")),eval(input(\"enter the stop value: \"))):\n",
    "    print(f\"{i}*{i} is {i*i}\")"
   ]
  },
  {
   "cell_type": "code",
   "execution_count": 33,
   "id": "e30376a3",
   "metadata": {},
   "outputs": [
    {
     "name": "stdout",
     "output_type": "stream",
     "text": [
      "4*4 is 16\n",
      "5*5 is 25\n",
      "6*6 is 36\n",
      "7*7 is 49\n"
     ]
    }
   ],
   "source": [
    "import random\n",
    "start=random.randint(1,6)\n",
    "stop=random.randint(7,10)\n",
    "for i in range(start,stop):\n",
    "    print(f\"{i}*{i} is {i*i}\")"
   ]
  },
  {
   "cell_type": "code",
   "execution_count": null,
   "id": "2723c513",
   "metadata": {},
   "outputs": [],
   "source": [
    "# function with arguments"
   ]
  },
  {
   "cell_type": "code",
   "execution_count": 40,
   "id": "d7779596",
   "metadata": {},
   "outputs": [
    {
     "name": "stdout",
     "output_type": "stream",
     "text": [
      "1*1 is 1\n",
      "2*2 is 4\n",
      "3*3 is 9\n",
      "4*4 is 16\n",
      "5*5 is 25\n"
     ]
    }
   ],
   "source": [
    "# without argument \n",
    "def square1():\n",
    "    for i in range(1,6):\n",
    "        print(f\"{i}*{i} is {i*i}\")\n",
    "square1()"
   ]
  },
  {
   "cell_type": "code",
   "execution_count": 42,
   "id": "29b7533c",
   "metadata": {},
   "outputs": [
    {
     "name": "stdout",
     "output_type": "stream",
     "text": [
      "enter the start value: 20\n",
      "enter the stop value: 30\n",
      "20*20 is 400\n",
      "21*21 is 441\n",
      "22*22 is 484\n",
      "23*23 is 529\n",
      "24*24 is 576\n",
      "25*25 is 625\n",
      "26*26 is 676\n",
      "27*27 is 729\n",
      "28*28 is 784\n",
      "29*29 is 841\n"
     ]
    }
   ],
   "source": [
    "# without arguement local variable \n",
    "def square2():\n",
    "    start=eval(input(\"enter the start value: \"))\n",
    "    stop=eval(input(\"enter the stop value: \"))\n",
    "    for i in range(start,stop):\n",
    "        print(f\"{i}*{i} is {i*i}\")\n",
    "        \n",
    "square2()"
   ]
  },
  {
   "cell_type": "code",
   "execution_count": 46,
   "id": "52a739ad",
   "metadata": {},
   "outputs": [
    {
     "name": "stdout",
     "output_type": "stream",
     "text": [
      "enter the start value: 20\n",
      "enter the stop value: 30\n",
      "20*20 is 400\n",
      "21*21 is 441\n",
      "22*22 is 484\n",
      "23*23 is 529\n",
      "24*24 is 576\n",
      "25*25 is 625\n",
      "26*26 is 676\n",
      "27*27 is 729\n",
      "28*28 is 784\n",
      "29*29 is 841\n"
     ]
    }
   ],
   "source": [
    "# without argument global variable\n",
    "start=eval(input(\"enter the start value: \"))\n",
    "stop=eval(input(\"enter the stop value: \"))\n",
    "\n",
    "def square3():\n",
    "    for i in range(start,stop):\n",
    "        print(f\"{i}*{i} is {i*i}\")\n",
    "        \n",
    "square3()"
   ]
  },
  {
   "cell_type": "code",
   "execution_count": 47,
   "id": "099c628a",
   "metadata": {},
   "outputs": [
    {
     "name": "stdout",
     "output_type": "stream",
     "text": [
      "20*20 is 400\n",
      "21*21 is 441\n",
      "22*22 is 484\n",
      "23*23 is 529\n",
      "24*24 is 576\n",
      "25*25 is 625\n",
      "26*26 is 676\n",
      "27*27 is 729\n",
      "28*28 is 784\n",
      "29*29 is 841\n"
     ]
    }
   ],
   "source": [
    "# with argument \n",
    "def square4(start,stop):\n",
    "    for i in range(start,stop):\n",
    "        print(f\"{i}*{i} is {i*i}\")\n",
    "        \n",
    "square4(20,30)"
   ]
  },
  {
   "cell_type": "code",
   "execution_count": 49,
   "id": "0d755c93",
   "metadata": {},
   "outputs": [
    {
     "name": "stdout",
     "output_type": "stream",
     "text": [
      "20*20 is 400\n",
      "21*21 is 441\n",
      "22*22 is 484\n",
      "23*23 is 529\n",
      "24*24 is 576\n",
      "25*25 is 625\n",
      "26*26 is 676\n",
      "27*27 is 729\n",
      "28*28 is 784\n",
      "29*29 is 841\n"
     ]
    }
   ],
   "source": [
    "# default value\n",
    "def square5(start,stop=30):\n",
    "    for i in range(start,stop):\n",
    "        print(f\"{i}*{i} is {i*i}\")555555555556\n",
    "square5(20)"
   ]
  },
  {
   "cell_type": "code",
   "execution_count": 50,
   "id": "d3dd7e90",
   "metadata": {},
   "outputs": [
    {
     "ename": "SyntaxError",
     "evalue": "Missing parentheses in call to 'print'. Did you mean print(...)? (1676895341.py, line 7)",
     "output_type": "error",
     "traceback": [
      "\u001b[1;36m  Cell \u001b[1;32mIn[50], line 7\u001b[1;36m\u001b[0m\n\u001b[1;33m    print evenodd()\u001b[0m\n\u001b[1;37m    ^\u001b[0m\n\u001b[1;31mSyntaxError\u001b[0m\u001b[1;31m:\u001b[0m Missing parentheses in call to 'print'. Did you mean print(...)?\n"
     ]
    }
   ],
   "source": [
    "def evenodd():\n",
    "    num=eval(input(\"enter the number: \"))\n",
    "    if num%2==0:\n",
    "        print(f\"{num} is even number\")\n",
    "    else:\n",
    "        print(\"number is odd\")\n",
    "print evenodd()"
   ]
  },
  {
   "cell_type": "code",
   "execution_count": 56,
   "id": "d792042c",
   "metadata": {},
   "outputs": [
    {
     "name": "stdout",
     "output_type": "stream",
     "text": [
      "65 is odd\n",
      "47 is odd\n",
      "33 is odd\n",
      "22 is even\n",
      "5 is odd\n"
     ]
    }
   ],
   "source": [
    "for i in range(5):\n",
    "    number=random.randint(1,100)\n",
    "    if(number%2==0):\n",
    "        print(f\"{number} is even\")\n",
    "    else:\n",
    "        print(f\"{number} is odd\")"
   ]
  },
  {
   "cell_type": "code",
   "execution_count": 57,
   "id": "9a1460e0",
   "metadata": {},
   "outputs": [
    {
     "name": "stdout",
     "output_type": "stream",
     "text": [
      "python\n",
      "o\n",
      "python\n",
      "python\n",
      "0\n"
     ]
    }
   ],
   "source": [
    "count=0\n",
    "for i in range(5):\n",
    "    name=input()\n",
    "    if name==\"python\":\n",
    "        count=count+1"
   ]
  },
  {
   "cell_type": "code",
   "execution_count": 59,
   "id": "99dc468d",
   "metadata": {},
   "outputs": [
    {
     "data": {
      "text/plain": [
       "3"
      ]
     },
     "execution_count": 59,
     "metadata": {},
     "output_type": "execute_result"
    }
   ],
   "source": [
    "count"
   ]
  },
  {
   "cell_type": "code",
   "execution_count": 61,
   "id": "aa586765",
   "metadata": {},
   "outputs": [
    {
     "name": "stdout",
     "output_type": "stream",
     "text": [
      "22 is even\n",
      "28 is even\n",
      "45 is odd\n",
      "25 is odd\n",
      "12 is even\n",
      "the number of even numbers are: 3\n",
      "the number of odd numbers are: 2\n"
     ]
    }
   ],
   "source": [
    "import random\n",
    "even_count=0\n",
    "odd_count=0\n",
    "for i in range(5):\n",
    "    number=random.randint(1,100)\n",
    "    if(number%2==0):\n",
    "        even_count=even_count+1\n",
    "        print(f\"{number} is even\")\n",
    "    else:\n",
    "        odd_count=odd_count+1\n",
    "        print(f\"{number} is odd\")\n",
    "print(\"the number of even numbers are:\",even_count)\n",
    "print(\"the number of odd numbers are:\",odd_count)"
   ]
  },
  {
   "cell_type": "code",
   "execution_count": null,
   "id": "b504fbc2",
   "metadata": {},
   "outputs": [],
   "source": [
    "#Wap ask the user to enter a number form key board that as a number 1\n"
   ]
  },
  {
   "cell_type": "code",
   "execution_count": 69,
   "id": "7777b42e",
   "metadata": {},
   "outputs": [
    {
     "name": "stdout",
     "output_type": "stream",
     "text": [
      "enter the number: 9\n",
      "Win\n"
     ]
    }
   ],
   "source": [
    "import random\n",
    "num1=random.randint(1,10)\n",
    "num2=eval(input(\"enter the number: \"))\n",
    "if num1==num2:\n",
    "    print(\"Win\")\n",
    "else:\n",
    "    print(\"lost\")"
   ]
  },
  {
   "cell_type": "code",
   "execution_count": null,
   "id": "b6780d72",
   "metadata": {},
   "outputs": [],
   "source": []
  },
  {
   "cell_type": "markdown",
   "id": "043b69f6",
   "metadata": {},
   "source": []
  },
  {
   "cell_type": "code",
   "execution_count": null,
   "id": "796f2c82",
   "metadata": {},
   "outputs": [],
   "source": []
  },
  {
   "cell_type": "code",
   "execution_count": null,
   "id": "40cdfeaf",
   "metadata": {},
   "outputs": [],
   "source": [
    "# print(\"Since you win all of your chances are over\")\n",
    "# print(\"all the chances are over better luck next time\")"
   ]
  },
  {
   "cell_type": "code",
   "execution_count": null,
   "id": "0590d160",
   "metadata": {},
   "outputs": [],
   "source": [
    "import random\n",
    "for i in range(5):\n",
    "    num1=random.randint(1,10)\n",
    "    num2=eval(input(\"enter the number: \"))\n",
    "    print(f\"evaluate of {i})\n",
    "    if num1==num2:\n",
    "        print(f\"you win after{1+1} attempt\")\n",
    "        break\n",
    "    else:\n",
    "        print(f\"you lost the attempts left is{num-1-i}\")"
   ]
  },
  {
   "cell_type": "code",
   "execution_count": null,
   "id": "7b7ff64c",
   "metadata": {},
   "outputs": [],
   "source": []
  },
  {
   "cell_type": "code",
   "execution_count": 78,
   "id": "5034d5ba",
   "metadata": {},
   "outputs": [
    {
     "name": "stdout",
     "output_type": "stream",
     "text": [
      "55\n"
     ]
    }
   ],
   "source": [
    "summ=0\n",
    "for i in range(1,11):\n",
    "    summ=summ+i\n",
    "    \n",
    "print(summ)"
   ]
  },
  {
   "cell_type": "code",
   "execution_count": null,
   "id": "84331a33",
   "metadata": {},
   "outputs": [],
   "source": []
  },
  {
   "cell_type": "code",
   "execution_count": 80,
   "id": "af73302a",
   "metadata": {},
   "outputs": [
    {
     "name": "stdout",
     "output_type": "stream",
     "text": [
      "enetre the divisor: 1\n",
      "the number of divisors for 1 is 4\n"
     ]
    }
   ],
   "source": [
    "num=eval(input(\"enter the divisor: \"))\n",
    "for i in range(1,num+1):\n",
    "    if 10%i==0:\n",
    "        count+=1\n",
    "print(f'the number of divisors for {num} is {count}')"
   ]
  },
  {
   "cell_type": "markdown",
   "id": "cefaf512",
   "metadata": {},
   "source": []
  },
  {
   "cell_type": "code",
   "execution_count": null,
   "id": "80f763d7",
   "metadata": {},
   "outputs": [],
   "source": []
  },
  {
   "cell_type": "code",
   "execution_count": 83,
   "id": "1f3100de",
   "metadata": {},
   "outputs": [
    {
     "name": "stdout",
     "output_type": "stream",
     "text": [
      "the square of 1 is 1\n",
      "the square of 2 is 4\n",
      "the square of 3 is 9\n",
      "the square of 4 is 16\n",
      "the square of 5 is 25\n"
     ]
    }
   ],
   "source": [
    "for i in range(1,6):\n",
    "    print(f\"the square of {i} is {i*i}\")"
   ]
  },
  {
   "cell_type": "code",
   "execution_count": 86,
   "id": "791af56a",
   "metadata": {},
   "outputs": [
    {
     "name": "stdout",
     "output_type": "stream",
     "text": [
      " the square of 1 is 1\n",
      " the square of 2 is 4\n",
      " the square of 3 is 9\n",
      " the square of 4 is 16\n",
      " the square of 5 is 25\n"
     ]
    }
   ],
   "source": [
    "i=1\n",
    "while i<6:\n",
    "    print(f\" the square of {i} is {i*i}\")\n",
    "    i=i+1"
   ]
  },
  {
   "cell_type": "code",
   "execution_count": null,
   "id": "13bde13f",
   "metadata": {},
   "outputs": [],
   "source": [
    "import random\n",
    "i=random.randint(1,10)\n",
    "while i<6:\n",
    "    print(f\" the square of {i} is {i*i}\")\n",
    "    i=i+1"
   ]
  },
  {
   "cell_type": "code",
   "execution_count": 89,
   "id": "d6a8a528",
   "metadata": {},
   "outputs": [
    {
     "name": "stdout",
     "output_type": "stream",
     "text": [
      "the square of 0 is 0\n",
      "the square of 1 is 1\n",
      "the square of 2 is 4\n",
      "the square of 3 is 9\n",
      "the square of 0 is 0\n",
      "the square of 1 is 1\n",
      "the square of 2 is 4\n",
      "the square of 3 is 9\n",
      "the square of 4 is 16\n"
     ]
    }
   ],
   "source": [
    "import random\n",
    "for i in range(4):\n",
    "    num=random.randint(1,10)\n",
    "    print(f\"the square of {i} is {i*i}\")\n",
    "    \n",
    "    \n",
    "i=0\n",
    "while i<5:\n",
    "    num=random.randint(1,10)\n",
    "    print(f\"the square of {i} is {i*i}\")\n",
    "    i=i+1"
   ]
  },
  {
   "cell_type": "code",
   "execution_count": null,
   "id": "1501a7b6",
   "metadata": {},
   "outputs": [],
   "source": []
  },
  {
   "cell_type": "code",
   "execution_count": null,
   "id": "b5406ffc",
   "metadata": {},
   "outputs": [],
   "source": [
    "# WAP ask the user to get a number get even or odd number "
   ]
  },
  {
   "cell_type": "code",
   "execution_count": 90,
   "id": "be90f38b",
   "metadata": {},
   "outputs": [
    {
     "name": "stdout",
     "output_type": "stream",
     "text": [
      "47 is odd\n",
      "55 is odd\n",
      "66 is even\n",
      "47 is odd\n",
      "the number of even numbers are: 1\n",
      "the number of odd numbers are: 3\n"
     ]
    }
   ],
   "source": [
    "import random\n",
    "even_count=0\n",
    "odd_count=0\n",
    "for i in range(4):\n",
    "    number=random.randint(20,70)\n",
    "    if(number%2==0):\n",
    "        even_count=even_count+1\n",
    "        print(f\"{number} is even\")\n",
    "    else:\n",
    "        odd_count=odd_count+1\n",
    "        print(f\"{number} is odd\")\n",
    "print(\"the number of even numbers are:\",even_count)\n",
    "print(\"the number of odd numbers are:\",odd_count)"
   ]
  },
  {
   "cell_type": "code",
   "execution_count": 95,
   "id": "3042d869",
   "metadata": {},
   "outputs": [
    {
     "name": "stdout",
     "output_type": "stream",
     "text": [
      "51 is odd\n",
      "62 is even\n",
      "27 is odd\n",
      "59 is odd\n",
      "26 is even\n",
      "the number of even numbers are: 2\n",
      "the number of odd numbers are: 3\n"
     ]
    }
   ],
   "source": [
    "################### while loop ########## \n",
    "\n",
    "import random\n",
    "even_count=0\n",
    "odd_count=0\n",
    "\n",
    "while i<5:\n",
    "    number=random.randint(20,70)\n",
    "    if(number%2==0):\n",
    "        even_count=even_count+1\n",
    "        print(f\"{number} is even\")\n",
    "        i=i+1\n",
    "    else:\n",
    "        odd_count=odd_count+1\n",
    "        print(f\"{number} is odd\")\n",
    "print(\"the number of even numbers are:\",even_count)\n",
    "print(\"the number of odd numbers are:\",odd_count)"
   ]
  },
  {
   "cell_type": "code",
   "execution_count": null,
   "id": "713a9ed9",
   "metadata": {},
   "outputs": [],
   "source": []
  }
 ],
 "metadata": {
  "kernelspec": {
   "display_name": "Python 3 (ipykernel)",
   "language": "python",
   "name": "python3"
  },
  "language_info": {
   "codemirror_mode": {
    "name": "ipython",
    "version": 3
   },
   "file_extension": ".py",
   "mimetype": "text/x-python",
   "name": "python",
   "nbconvert_exporter": "python",
   "pygments_lexer": "ipython3",
   "version": "3.11.5"
  }
 },
 "nbformat": 4,
 "nbformat_minor": 5
}
